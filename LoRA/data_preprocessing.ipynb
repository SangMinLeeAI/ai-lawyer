{
 "cells": [
  {
   "cell_type": "code",
   "execution_count": 1,
   "metadata": {},
   "outputs": [
    {
     "name": "stderr",
     "output_type": "stream",
     "text": [
      "/home1/ais02/anaconda3/envs/torch/lib/python3.9/site-packages/tqdm/auto.py:21: TqdmWarning: IProgress not found. Please update jupyter and ipywidgets. See https://ipywidgets.readthedocs.io/en/stable/user_install.html\n",
      "  from .autonotebook import tqdm as notebook_tqdm\n"
     ]
    }
   ],
   "source": [
    "from datasets import load_dataset\n",
    "from random import choice\n",
    "from typing import *\n",
    "\n",
    "import json, datasets, os\n",
    "import os.path as osp"
   ]
  },
  {
   "cell_type": "code",
   "execution_count": 1,
   "metadata": {},
   "outputs": [],
   "source": [
    "# bases = [\"raw_data/train\", \"raw_data/val\"]\n",
    "# for base in bases:\n",
    "#     filenames = os.listdir(base)\n",
    "#     for filename in filenames:\n",
    "#         with open(fpath := osp.join(base, filename), 'rb') as f:\n",
    "#             j = json.load(f)\n",
    "#             j = j['data']\n",
    "#             with open(fpath[4:], 'w') as fp:\n",
    "#                 json.dump(j, fp)"
   ]
  },
  {
   "cell_type": "code",
   "execution_count": 2,
   "metadata": {},
   "outputs": [],
   "source": [
    "dset = load_dataset(\"json\", data_dir=\"data\")"
   ]
  },
  {
   "cell_type": "code",
   "execution_count": 3,
   "metadata": {},
   "outputs": [],
   "source": [
    "def preprocess_text(batch:datasets.formatting.formatting.LazyRow):\n",
    "    # print(batch.keys())\n",
    "    pa = batch['paragraphs'][0]\n",
    "    qa = choice(pa['qas'])\n",
    "    # print(qa)\n",
    "    s = f\"<s>[INST]{qa['answer']['clue_text']+' '+qa['question']}[/INST]{qa['answer']['text']}</s>\"\n",
    "    return {\"text\":s}"
   ]
  },
  {
   "cell_type": "code",
   "execution_count": 4,
   "metadata": {},
   "outputs": [],
   "source": [
    "# dset['train'][0]"
   ]
  },
  {
   "cell_type": "code",
   "execution_count": 8,
   "metadata": {},
   "outputs": [
    {
     "name": "stderr",
     "output_type": "stream",
     "text": [
      "Map: 100%|██████████| 14679/14679 [00:02<00:00, 6045.33 examples/s]\n",
      "Map: 100%|██████████| 1835/1835 [00:00<00:00, 3904.25 examples/s]\n"
     ]
    }
   ],
   "source": [
    "dset = dset.map(preprocess_text, batch_size=4, remove_columns=dset['train'].column_names)"
   ]
  },
  {
   "cell_type": "code",
   "execution_count": 9,
   "metadata": {},
   "outputs": [
    {
     "data": {
      "text/plain": [
       "DatasetDict({\n",
       "    train: Dataset({\n",
       "        features: ['text'],\n",
       "        num_rows: 14679\n",
       "    })\n",
       "    validation: Dataset({\n",
       "        features: ['text'],\n",
       "        num_rows: 1835\n",
       "    })\n",
       "})"
      ]
     },
     "execution_count": 9,
     "metadata": {},
     "output_type": "execute_result"
    }
   ],
   "source": [
    "dset"
   ]
  },
  {
   "cell_type": "code",
   "execution_count": null,
   "metadata": {},
   "outputs": [],
   "source": []
  }
 ],
 "metadata": {
  "kernelspec": {
   "display_name": "torch",
   "language": "python",
   "name": "python3"
  },
  "language_info": {
   "codemirror_mode": {
    "name": "ipython",
    "version": 3
   },
   "file_extension": ".py",
   "mimetype": "text/x-python",
   "name": "python",
   "nbconvert_exporter": "python",
   "pygments_lexer": "ipython3",
   "version": "3.9.18"
  }
 },
 "nbformat": 4,
 "nbformat_minor": 2
}
